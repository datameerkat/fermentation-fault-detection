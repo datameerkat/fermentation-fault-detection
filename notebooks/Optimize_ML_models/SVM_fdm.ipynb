{
 "cells": [
  {
   "cell_type": "markdown",
   "metadata": {},
   "source": [
    "## Support vector machine as a fault detection model"
   ]
  },
  {
   "cell_type": "code",
   "execution_count": 2,
   "metadata": {},
   "outputs": [],
   "source": [
    "from fermfaultdetect.data.utils import load_batchset, dataloader\n",
    "from fermfaultdetect.utils import get_simulation_dir, get_models_dir\n",
    "import os\n",
    "import matplotlib.pyplot as plt\n",
    "import pandas as pd\n",
    "import seaborn as sns\n",
    "import numpy as np\n",
    "from fermfaultdetect.fault_detect_models.ml_models import svm_fdm\n",
    "from fermfaultdetect.model_evaluation import plot_example_set\n",
    "from fermfaultdetect import model_evaluation as eval\n",
    "import joblib\n",
    "from fermfaultdetect.visualizations import visualize\n",
    "from datetime import datetime\n",
    "import json"
   ]
  },
  {
   "cell_type": "markdown",
   "metadata": {},
   "source": [
    "### Load training and test data"
   ]
  },
  {
   "cell_type": "code",
   "execution_count": 3,
   "metadata": {},
   "outputs": [],
   "source": [
    "seed = 42 # set seeding\n",
    "\n",
    "sim_dir = get_simulation_dir() # get directory of simulation data\n",
    "\n",
    "############################################\n",
    "model_name = \"FILL_IN_MODEL_NAME\" # set the name of model (e.g. date or specific name)\n",
    "train_set_name = \"FILL_IN_TRAINING_SET_NAME\"\n",
    "val_set_name = \"FILL_IN_VALIDATION_SET_NAME\"\n",
    "############################################\n",
    "\n",
    "train_path = os.path.join(sim_dir, train_set_name)\n",
    "val_path = os.path.join(sim_dir, val_set_name)\n",
    "\n",
    "# set directory to save model and metrics\n",
    "model_dir = os.path.join(get_models_dir(), model_name)\n",
    "if not os.path.exists(model_dir):\n",
    "    os.makedirs(model_dir)\n",
    "\n",
    "train_set = load_batchset(train_path)\n",
    "val_set = load_batchset(val_path)\n",
    "\n",
    "# Load train data into dataloader and standardize\n",
    "target_cols = ['defect_steambarrier', 'steam_in_feed', 'blocked_spargers', 'airflow_OOC', 'OUR_OOC', 'no_fault'] # set target columns\n",
    "train_dl = dataloader(batchset = train_set[:], seed=seed) # load copy of the list\n",
    "train_dl.shuffle_batches()\n",
    "train_dl.standardize_data(exclude_cols=target_cols)\n",
    "\n",
    "# Load test data into dataloader and standardize\n",
    "val_dl = dataloader(batchset = val_set[:], seed=seed)\n",
    "#test_dl.shuffle_batches()\n",
    "val_dl.import_standardization(train_dl)\n",
    "val_dl.standardize_data(exclude_cols=target_cols)\n",
    "\n",
    "# Retrieve data from dataloader with separate and fused target columns\n",
    "train_X, train_Y = train_dl.get_data(split_batches=False, target_cols=target_cols, separate_target_matrix=True, fuse_target_cols=True)\n",
    "val_X, val_Y = val_dl.get_data(split_batches=False, target_cols=target_cols, separate_target_matrix=True, fuse_target_cols=True)\n",
    "_, val_Y_unfused = val_dl.get_data(split_batches=False, target_cols=target_cols, separate_target_matrix=True, fuse_target_cols=False)\n",
    "\n",
    "\n",
    "# Cut target column to 1D-array\n",
    "train_Y = train_Y[\"fault\"]\n",
    "val_Y = val_Y[\"fault\"]"
   ]
  },
  {
   "cell_type": "markdown",
   "metadata": {},
   "source": [
    "## Optimize C and gamma"
   ]
  },
  {
   "cell_type": "markdown",
   "metadata": {},
   "source": [
    "### Run gridsearch"
   ]
  },
  {
   "cell_type": "code",
   "execution_count": null,
   "metadata": {},
   "outputs": [],
   "source": [
    "# Define the range of values for hyperparameters\n",
    "C_values = [0.1, 1, 10, 100]\n",
    "gamma_values = [0.1 , 1, 10, 100]\n",
    "mw = 1\n",
    "\n",
    "# Prepare to collect results\n",
    "results = []\n",
    "\n",
    "# Loop through all possible combinations\n",
    "for C in C_values:\n",
    "    for gamma in gamma_values:\n",
    "        print(f\"Training model with C={C} and gamma={gamma}\")\n",
    "        svm_model_grid = svm_fdm(kernel='rbf', C=C, gamma=gamma, mw = mw, seed=seed)\n",
    "        svm_model_grid.train(train_X, train_Y)\n",
    "        accuracy = svm_model_grid.prediction_accuracy(val_X, val_Y)\n",
    "        results.append({\n",
    "            'C': C,\n",
    "            'gamma': gamma,\n",
    "            'accuracy': accuracy\n",
    "        })\n",
    "\n",
    "# Convert results to a DataFrame\n",
    "results_df = pd.DataFrame(results)\n",
    "\n",
    "# Pivot the DataFrame for heatmap plotting\n",
    "pivot_table = results_df.pivot(index='C', columns='gamma', values='accuracy')\n",
    "\n",
    "# Save the pivot table to a CSV file\n",
    "table_path = os.path.join(model_dir, \"svm_gridsearch_heatmap.csv\")\n",
    "pivot_table.to_csv(table_path)"
   ]
  },
  {
   "cell_type": "markdown",
   "metadata": {},
   "source": [
    "### Visualize gridsearch"
   ]
  },
  {
   "cell_type": "code",
   "execution_count": null,
   "metadata": {},
   "outputs": [],
   "source": [
    "# Print optimal hyperparameters\n",
    "best_row = results_df.loc[results_df['accuracy'].idxmax()]\n",
    "print(f\"Optimal parameters: accuracy = {best_row['accuracy']:.3f}, C = {best_row['C']:.3f}, gamma = {best_row['gamma']}\")\n",
    "\n",
    "# Plotting the results using seaborn heatmap\n",
    "plt.figure(figsize=(10, 8))\n",
    "visualize.set_plot_params(high_res=True)\n",
    "ax = sns.heatmap(pivot_table, annot=False, cmap=visualize.get_hotcold_colormap(), fmt=\".3f\")\n",
    "ax.set_yticklabels(ax.get_yticklabels(), rotation=0)\n",
    "#plt.title('SVM Model Accuracy Heatmap')\n",
    "plt.xlabel('γ [-]')\n",
    "plt.ylabel('C [-]')\n",
    "plt.savefig(os.path.join(model_dir, \"svm_gridsearch_heatmap_\"+model_name+\".png\"), dpi=300)\n",
    "plt.show()"
   ]
  },
  {
   "cell_type": "markdown",
   "metadata": {},
   "source": [
    "### Retrain model with optimal C and gamma"
   ]
  },
  {
   "cell_type": "code",
   "execution_count": 6,
   "metadata": {},
   "outputs": [],
   "source": [
    "### Decide on optimal configuration based on gridsearch ###\n",
    "C = 1\n",
    "gamma = 10\n",
    "###########################################################\n",
    "\n",
    "svm_model_best = svm_fdm(kernel='rbf', C=C, gamma=gamma, mw = 1, seed=seed)\n",
    "svm_model_best.train(train_X, train_Y)"
   ]
  },
  {
   "cell_type": "markdown",
   "metadata": {},
   "source": [
    "### Optimize moving time window"
   ]
  },
  {
   "cell_type": "code",
   "execution_count": null,
   "metadata": {},
   "outputs": [],
   "source": [
    "mw_grid = [1, 2, 3, 4, 5, 10, 15, 20]\n",
    "mw_accuracy = []\n",
    "\n",
    "for mw in mw_grid:\n",
    "    svm_model_best.mw = mw\n",
    "    accuracy = svm_model_best.prediction_accuracy(val_X, val_Y)\n",
    "    mw_accuracy.append(accuracy)\n",
    "print(mw_accuracy)\n",
    "\n",
    "# Plotting the cumulative explained variance to determine the number of components to retain\n",
    "colors = visualize.get_thesis_colors()\n",
    "plt.figure(figsize=(6, 4))\n",
    "plt.plot(mw_grid, mw_accuracy, color=colors[\"blue\"])\n",
    "plt.xlabel(r'Moving time window size $\\it{n}$ [-]')\n",
    "plt.ylabel('Accuracy [-]')\n",
    "\n",
    "plt.rcParams['figure.dpi'] = 300  # High resolution for saving\n",
    "plt.rcParams['font.size'] = 14\n",
    "plt.rcParams['axes.labelsize'] = 16\n",
    "plt.rcParams['axes.titlesize'] = 16\n",
    "plt.rcParams['legend.fontsize'] = 12\n",
    "plt.rcParams['xtick.labelsize'] = 14\n",
    "plt.rcParams['ytick.labelsize'] = 14\n",
    "plt.xticks([1, 5, 10, 15, 20])\n",
    "\n",
    "# Save the plot\n",
    "plt.savefig(os.path.join(model_dir, \"SVM_mw_accuracy.png\"), dpi=300)\n",
    "plt.show()"
   ]
  },
  {
   "cell_type": "markdown",
   "metadata": {},
   "source": [
    "### Analyse and save best model"
   ]
  },
  {
   "cell_type": "code",
   "execution_count": null,
   "metadata": {},
   "outputs": [],
   "source": [
    "# Evaluate the model\n",
    "predictions = svm_model_best.predict(val_X)\n",
    "metrics_path = os.path.join(model_dir, \"svm_metrics_opt_\"+model_name+\".csv\")\n",
    "metrics = eval.metrics_table_oneclass(val_Y_unfused, predictions[\"fault\"], save_path=metrics_path)\n",
    "eval.visualize_metrics(metrics)"
   ]
  },
  {
   "cell_type": "code",
   "execution_count": 9,
   "metadata": {},
   "outputs": [],
   "source": [
    "### Choose optimal moving time window ###\n",
    "optimal_mw = 1\n",
    "#########################################\n",
    "\n",
    "# create folder to save model and metrics\n",
    "model_dir = os.path.join(get_models_dir(), model_name)\n",
    "if not os.path.exists(model_dir):\n",
    "    os.makedirs(model_dir)\n",
    "\n",
    "# Save model\n",
    "filename = 'svm_model_best.joblib' # set model name\n",
    "save_path = os.path.join(model_dir, filename)\n",
    "joblib.dump(svm_model_best, save_path)\n",
    "\n",
    "# Create and save config\n",
    "config_model = {\n",
    "    \"model\": \"SVM\",\n",
    "    \"date\": datetime.now().strftime(\"%Y-%m-%d %H:%M:%S\"),\n",
    "    \"train_set\": train_set_name,\n",
    "    \"name\": model_name,\n",
    "    \"gamma\": best_row['gamma'],\n",
    "    \"C\": best_row['C'],\n",
    "    \"moving time window\": optimal_mw\n",
    "}\n",
    "\n",
    "# Save the model config as a json file\n",
    "config_name = \"config.json\"\n",
    "config_path = os.path.join(model_dir, config_name)\n",
    "with open(config_path, 'w') as json_file:\n",
    "    json.dump(config_model, json_file, indent=4)"
   ]
  },
  {
   "cell_type": "markdown",
   "metadata": {},
   "source": [
    "### Show performance with exemplatory validation set"
   ]
  },
  {
   "cell_type": "code",
   "execution_count": null,
   "metadata": {},
   "outputs": [],
   "source": [
    "example_setname = \"FILL_IN_EXAMPLE_SET_NAME\"\n",
    "plot_example_set(model=svm_model_best, dataset_name=example_setname, parameter_plotted=\"weight\")"
   ]
  }
 ],
 "metadata": {
  "kernelspec": {
   "display_name": "hybmod",
   "language": "python",
   "name": "python3"
  },
  "language_info": {
   "codemirror_mode": {
    "name": "ipython",
    "version": 3
   },
   "file_extension": ".py",
   "mimetype": "text/x-python",
   "name": "python",
   "nbconvert_exporter": "python",
   "pygments_lexer": "ipython3",
   "version": "3.11.8"
  }
 },
 "nbformat": 4,
 "nbformat_minor": 2
}
